{
 "cells": [
  {
   "cell_type": "code",
   "execution_count": null,
   "metadata": {},
   "outputs": [],
   "source": [
    "from CPSsenv import CPSsenv\n",
    "from Algorithms import CPSsalgorithms\n",
    "import networkx as nx\n",
    "from numpy.random import random, choice, seed\n",
    "import matplotlib.pyplot as plt\n",
    "import numpy as np\n",
    "from time import time\n",
    "from copy import copy, deepcopy"
   ]
  },
  {
   "cell_type": "markdown",
   "metadata": {},
   "source": [
    "# Policy Evaluation"
   ]
  },
  {
   "cell_type": "markdown",
   "metadata": {},
   "source": [
    "1. Environment parameters"
   ]
  },
  {
   "cell_type": "code",
   "execution_count": null,
   "metadata": {},
   "outputs": [],
   "source": [
    "'''\n",
    "ENVIRONMENT PARAMETERS\n",
    "'''\n",
    "network = 'SCADA'\n",
    "T_max = 6\n",
    "termination = 'one goal'\n",
    "nw_params = {'Rewards': ['g5']}\n",
    "rd_seed = 0\n",
    "init_type = 'active list'\n",
    "init_params = ['r1', 'k1', 'k4', 's1', 's3']"
   ]
  },
  {
   "cell_type": "markdown",
   "metadata": {},
   "source": [
    "2. Algorithms parameters"
   ]
  },
  {
   "cell_type": "code",
   "execution_count": null,
   "metadata": {},
   "outputs": [],
   "source": [
    "'''\n",
    "Q-Learning parameters\n",
    "'''\n",
    "replicas = 5\n",
    "episodes = 20000\n",
    "Episodes = range(episodes) \n",
    "\n",
    "alpha = 0.05                                     # How fast does the agent learn\n",
    "gamma = 0.99                                    # How important are future actions\n",
    "\n",
    "epsilon = 0.7                                   # Rate at which random actions will be \n",
    "start_e_decaying = 0                            # First episode at which decay epsilon\n",
    "end_e_decaying = round(episodes * 0.7)          # Last episode at which decay epsilona\n",
    "epsilon_decay_value = (epsilon - 0.03) / (end_e_decaying - start_e_decaying)"
   ]
  },
  {
   "cell_type": "code",
   "execution_count": null,
   "metadata": {},
   "outputs": [],
   "source": [
    "'''\n",
    "Creating environment object\n",
    "'''\n",
    "env = CPSsenv(network = network, T_max = T_max, termination = termination, nw_params = nw_params)"
   ]
  }
 ],
 "metadata": {
  "kernelspec": {
   "display_name": "Python 3.10.4 64-bit",
   "language": "python",
   "name": "python3"
  },
  "language_info": {
   "codemirror_mode": {
    "name": "ipython",
    "version": 3
   },
   "file_extension": ".py",
   "mimetype": "text/x-python",
   "name": "python",
   "nbconvert_exporter": "python",
   "pygments_lexer": "ipython3",
   "version": "3.10.4"
  },
  "orig_nbformat": 4,
  "vscode": {
   "interpreter": {
    "hash": "aee8b7b246df8f9039afb4144a1f6fd8d2ca17a180786b69acc140d282b71a49"
   }
  }
 },
 "nbformat": 4,
 "nbformat_minor": 2
}
